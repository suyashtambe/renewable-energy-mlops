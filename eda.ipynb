{
 "cells": [
  {
   "cell_type": "code",
   "execution_count": 2,
   "id": "bcd657b1",
   "metadata": {},
   "outputs": [],
   "source": [
    "import pandas as pd\n",
    "import numpy as np"
   ]
  },
  {
   "cell_type": "code",
   "execution_count": 3,
   "id": "c6a906c0",
   "metadata": {},
   "outputs": [
    {
     "data": {
      "text/html": [
       "<div>\n",
       "<style scoped>\n",
       "    .dataframe tbody tr th:only-of-type {\n",
       "        vertical-align: middle;\n",
       "    }\n",
       "\n",
       "    .dataframe tbody tr th {\n",
       "        vertical-align: top;\n",
       "    }\n",
       "\n",
       "    .dataframe thead th {\n",
       "        text-align: right;\n",
       "    }\n",
       "</style>\n",
       "<table border=\"1\" class=\"dataframe\">\n",
       "  <thead>\n",
       "    <tr style=\"text-align: right;\">\n",
       "      <th></th>\n",
       "      <th>Country</th>\n",
       "      <th>Year</th>\n",
       "      <th>Total Energy Consumption (TWh)</th>\n",
       "      <th>Per Capita Energy Use (kWh)</th>\n",
       "      <th>Renewable Energy Share (%)</th>\n",
       "      <th>Fossil Fuel Dependency (%)</th>\n",
       "      <th>Industrial Energy Use (%)</th>\n",
       "      <th>Household Energy Use (%)</th>\n",
       "      <th>Carbon Emissions (Million Tons)</th>\n",
       "      <th>Energy Price Index (USD/kWh)</th>\n",
       "    </tr>\n",
       "  </thead>\n",
       "  <tbody>\n",
       "    <tr>\n",
       "      <th>0</th>\n",
       "      <td>Canada</td>\n",
       "      <td>2018</td>\n",
       "      <td>9525.38</td>\n",
       "      <td>42301.43</td>\n",
       "      <td>13.70</td>\n",
       "      <td>70.47</td>\n",
       "      <td>45.18</td>\n",
       "      <td>19.96</td>\n",
       "      <td>3766.11</td>\n",
       "      <td>0.12</td>\n",
       "    </tr>\n",
       "    <tr>\n",
       "      <th>1</th>\n",
       "      <td>Germany</td>\n",
       "      <td>2020</td>\n",
       "      <td>7922.08</td>\n",
       "      <td>36601.38</td>\n",
       "      <td>33.63</td>\n",
       "      <td>41.95</td>\n",
       "      <td>34.32</td>\n",
       "      <td>22.27</td>\n",
       "      <td>2713.12</td>\n",
       "      <td>0.08</td>\n",
       "    </tr>\n",
       "    <tr>\n",
       "      <th>2</th>\n",
       "      <td>Russia</td>\n",
       "      <td>2002</td>\n",
       "      <td>6630.01</td>\n",
       "      <td>41670.20</td>\n",
       "      <td>10.82</td>\n",
       "      <td>39.32</td>\n",
       "      <td>53.66</td>\n",
       "      <td>26.44</td>\n",
       "      <td>885.98</td>\n",
       "      <td>0.26</td>\n",
       "    </tr>\n",
       "    <tr>\n",
       "      <th>3</th>\n",
       "      <td>Brazil</td>\n",
       "      <td>2010</td>\n",
       "      <td>8580.19</td>\n",
       "      <td>10969.58</td>\n",
       "      <td>73.24</td>\n",
       "      <td>16.71</td>\n",
       "      <td>30.55</td>\n",
       "      <td>27.60</td>\n",
       "      <td>1144.11</td>\n",
       "      <td>0.47</td>\n",
       "    </tr>\n",
       "    <tr>\n",
       "      <th>4</th>\n",
       "      <td>Canada</td>\n",
       "      <td>2006</td>\n",
       "      <td>848.88</td>\n",
       "      <td>32190.85</td>\n",
       "      <td>73.60</td>\n",
       "      <td>74.86</td>\n",
       "      <td>42.39</td>\n",
       "      <td>23.43</td>\n",
       "      <td>842.39</td>\n",
       "      <td>0.48</td>\n",
       "    </tr>\n",
       "  </tbody>\n",
       "</table>\n",
       "</div>"
      ],
      "text/plain": [
       "   Country  Year  Total Energy Consumption (TWh)  Per Capita Energy Use (kWh)  \\\n",
       "0   Canada  2018                         9525.38                     42301.43   \n",
       "1  Germany  2020                         7922.08                     36601.38   \n",
       "2   Russia  2002                         6630.01                     41670.20   \n",
       "3   Brazil  2010                         8580.19                     10969.58   \n",
       "4   Canada  2006                          848.88                     32190.85   \n",
       "\n",
       "   Renewable Energy Share (%)  Fossil Fuel Dependency (%)  \\\n",
       "0                       13.70                       70.47   \n",
       "1                       33.63                       41.95   \n",
       "2                       10.82                       39.32   \n",
       "3                       73.24                       16.71   \n",
       "4                       73.60                       74.86   \n",
       "\n",
       "   Industrial Energy Use (%)  Household Energy Use (%)  \\\n",
       "0                      45.18                     19.96   \n",
       "1                      34.32                     22.27   \n",
       "2                      53.66                     26.44   \n",
       "3                      30.55                     27.60   \n",
       "4                      42.39                     23.43   \n",
       "\n",
       "   Carbon Emissions (Million Tons)  Energy Price Index (USD/kWh)  \n",
       "0                          3766.11                          0.12  \n",
       "1                          2713.12                          0.08  \n",
       "2                           885.98                          0.26  \n",
       "3                          1144.11                          0.47  \n",
       "4                           842.39                          0.48  "
      ]
     },
     "execution_count": 3,
     "metadata": {},
     "output_type": "execute_result"
    }
   ],
   "source": [
    "df = pd.read_csv('data/raw/global_energy_consumption.csv')\n",
    "df.head()"
   ]
  },
  {
   "cell_type": "code",
   "execution_count": 4,
   "id": "9b5b1050",
   "metadata": {},
   "outputs": [
    {
     "name": "stdout",
     "output_type": "stream",
     "text": [
      "<class 'pandas.core.frame.DataFrame'>\n",
      "RangeIndex: 10000 entries, 0 to 9999\n",
      "Data columns (total 10 columns):\n",
      " #   Column                           Non-Null Count  Dtype  \n",
      "---  ------                           --------------  -----  \n",
      " 0   Country                          10000 non-null  object \n",
      " 1   Year                             10000 non-null  int64  \n",
      " 2   Total Energy Consumption (TWh)   10000 non-null  float64\n",
      " 3   Per Capita Energy Use (kWh)      10000 non-null  float64\n",
      " 4   Renewable Energy Share (%)       10000 non-null  float64\n",
      " 5   Fossil Fuel Dependency (%)       10000 non-null  float64\n",
      " 6   Industrial Energy Use (%)        10000 non-null  float64\n",
      " 7   Household Energy Use (%)         10000 non-null  float64\n",
      " 8   Carbon Emissions (Million Tons)  10000 non-null  float64\n",
      " 9   Energy Price Index (USD/kWh)     10000 non-null  float64\n",
      "dtypes: float64(8), int64(1), object(1)\n",
      "memory usage: 781.4+ KB\n"
     ]
    }
   ],
   "source": [
    "df.info()"
   ]
  },
  {
   "cell_type": "code",
   "execution_count": 5,
   "id": "e4d39625",
   "metadata": {},
   "outputs": [
    {
     "name": "stdout",
     "output_type": "stream",
     "text": [
      "Index(['Country', 'Total Energy Consumption (TWh)',\n",
      "       'Per Capita Energy Use (kWh)', 'Renewable Energy Share (%)',\n",
      "       'Fossil Fuel Dependency (%)', 'Industrial Energy Use (%)',\n",
      "       'Household Energy Use (%)', 'Carbon Emissions (Million Tons)',\n",
      "       'Energy Price Index (USD/kWh)', 'Year_diff',\n",
      "       'Industrial_to_Household_ratio'],\n",
      "      dtype='object')\n"
     ]
    }
   ],
   "source": [
    "import pandas as pd\n",
    "\n",
    "df = pd.read_csv(\"data/processed/train.csv\")\n",
    "print(df.columns)\n"
   ]
  }
 ],
 "metadata": {
  "kernelspec": {
   "display_name": "Python 3",
   "language": "python",
   "name": "python3"
  },
  "language_info": {
   "codemirror_mode": {
    "name": "ipython",
    "version": 3
   },
   "file_extension": ".py",
   "mimetype": "text/x-python",
   "name": "python",
   "nbconvert_exporter": "python",
   "pygments_lexer": "ipython3",
   "version": "3.12.2"
  }
 },
 "nbformat": 4,
 "nbformat_minor": 5
}
